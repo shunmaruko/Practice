{
 "cells": [
  {
   "cell_type": "markdown",
   "metadata": {},
   "source": [
    "# Chapter1\n",
    "### Finance and Python Syntax\n",
    "Try simple financial algorithm, namely the evaluation of  a European call option by Monte Carlo simulation.\n",
    "We will consider a Black-Scholes- Merton (BSM) setup ) in which the option’s underlying risk factor follows a geometric Brownian motion.\n",
    ">A European option is a version of an options contract that limits execution to its expiration date.\n",
    "\n",
    "Parameters for evaluation\n",
    "* Initial Stock index level  $S_0 = 100$\n",
    ">helps investors compare current price levels with past prices to calculate market performance.\n",
    "* Strike price of the European call option $K = 105$\n",
    "* Time-to-maturity $T = 1 $year\n",
    ">the length of time during which interest is paid. When it reaches maturity, its owner is repaid the principal.\n",
    "* Constant, riskless short rate $r = 5$%\n",
    "* Constant volatility $\\sigma = 20$%\n",
    "\n",
    "_Equation 1-1. Black-Scholes-Merton (1973) index level at maturity_\n",
    "\n",
    "$\\begin{equation}\n",
    "\\label{bsm}\n",
    "  S_T = S_0 exp((r - \\frac{1}{2}\\sigma^2)T+\\sigma \\sqrt{T}z)\n",
    "\\end{equation}$\n",
    "\n",
    "The following is an algorithmic description of the Monte Carlo valuation procedure:\n",
    "1. Draw I (pseudo)random numbers z(i), i ∈ {1, 2, ..., I}, from the standard normal distribution.\n",
    "2. Calculate all resulting index levels at maturity ST(i) for given z(i) and Equation 1-1.\n",
    "3. Calculate all inner values of the option at maturity as $hT(i) = max(ST(i) – K,0)$.\n",
    "4. Estimate the option present value via the Monte Carlo estimator given in Equation 1-2.\n",
    "\n",
    "_Equation 1-2. Monte Carlo estimator for European option_\n",
    "\n",
    "$\\begin{equation}\n",
    "  C_0 = exp^{-rT}\\frac{1}{I}\\sum{I}{} h_T(i)\n",
    "\\end{equation}$"
   ]
  },
  {
   "cell_type": "markdown",
   "metadata": {},
   "source": [
    "Import module"
   ]
  },
  {
   "cell_type": "code",
   "execution_count": 37,
   "metadata": {},
   "outputs": [
    {
     "data": {
      "text/plain": [
       "4"
      ]
     },
     "execution_count": 37,
     "metadata": {},
     "output_type": "execute_result"
    }
   ],
   "source": [
    "import numpy as np\n",
    "import pandas as pd\n",
    "import pandas_datareader.data as web\n",
    "import datetime\n",
    "import numexpr as ne\n",
    "ne.set_num_threads(4)"
   ]
  },
  {
   "cell_type": "markdown",
   "metadata": {},
   "source": [
    "Define constant"
   ]
  },
  {
   "cell_type": "code",
   "execution_count": 8,
   "metadata": {},
   "outputs": [],
   "source": [
    "S0 = 100.  # initial index level\n",
    "K=105. # strike price\n",
    "T=1.0  # time-to-maturity \n",
    "r=0.05  # riskless short rate\n",
    "sigma = 0.2 # volatility"
   ]
  },
  {
   "cell_type": "code",
   "execution_count": 14,
   "metadata": {},
   "outputs": [
    {
     "name": "stdout",
     "output_type": "stream",
     "text": [
      "Value of the European Call Option 7.942\n"
     ]
    }
   ],
   "source": [
    "# Valuation Algorithm\n",
    "I = 100000\n",
    "z = np.random.standard_normal(I)\n",
    "ST=S0*np.exp((r-0.5*sigma**2)*T+sigma*np.sqrt(T)*z)\n",
    "# index values at maturity\n",
    "hT = np.maximum(ST - K, 0) # inner values at maturity\n",
    "C0=np.exp(-r*T)*sum(hT)/I # Monte Carlo estimator\n",
    "# Result Output\n",
    "print(\"Value of the European Call Option %5.3f\" % C0)"
   ]
  },
  {
   "cell_type": "markdown",
   "metadata": {},
   "source": [
    "Retrieve Google stock price data easily\n",
    "First, make sure to have available all necessary libraries:\n",
    "Second, retrieve the data from, say, Google itself:"
   ]
  },
  {
   "cell_type": "code",
   "execution_count": 12,
   "metadata": {},
   "outputs": [
    {
     "name": "stdout",
     "output_type": "stream",
     "text": [
      "(816, 6)\n"
     ]
    },
    {
     "data": {
      "text/html": [
       "<div>\n",
       "<style scoped>\n",
       "    .dataframe tbody tr th:only-of-type {\n",
       "        vertical-align: middle;\n",
       "    }\n",
       "\n",
       "    .dataframe tbody tr th {\n",
       "        vertical-align: top;\n",
       "    }\n",
       "\n",
       "    .dataframe thead th {\n",
       "        text-align: right;\n",
       "    }\n",
       "</style>\n",
       "<table border=\"1\" class=\"dataframe\">\n",
       "  <thead>\n",
       "    <tr style=\"text-align: right;\">\n",
       "      <th></th>\n",
       "      <th>High</th>\n",
       "      <th>Low</th>\n",
       "      <th>Open</th>\n",
       "      <th>Close</th>\n",
       "      <th>Volume</th>\n",
       "      <th>Adj Close</th>\n",
       "    </tr>\n",
       "    <tr>\n",
       "      <th>Date</th>\n",
       "      <th></th>\n",
       "      <th></th>\n",
       "      <th></th>\n",
       "      <th></th>\n",
       "      <th></th>\n",
       "      <th></th>\n",
       "    </tr>\n",
       "  </thead>\n",
       "  <tbody>\n",
       "    <tr>\n",
       "      <td>2020-03-25</td>\n",
       "      <td>1148.900024</td>\n",
       "      <td>1086.010010</td>\n",
       "      <td>1126.469971</td>\n",
       "      <td>1102.489990</td>\n",
       "      <td>4081500</td>\n",
       "      <td>1102.489990</td>\n",
       "    </tr>\n",
       "    <tr>\n",
       "      <td>2020-03-26</td>\n",
       "      <td>1169.969971</td>\n",
       "      <td>1093.530029</td>\n",
       "      <td>1111.800049</td>\n",
       "      <td>1161.750000</td>\n",
       "      <td>3571700</td>\n",
       "      <td>1161.750000</td>\n",
       "    </tr>\n",
       "    <tr>\n",
       "      <td>2020-03-27</td>\n",
       "      <td>1150.670044</td>\n",
       "      <td>1105.910034</td>\n",
       "      <td>1125.670044</td>\n",
       "      <td>1110.709961</td>\n",
       "      <td>3208500</td>\n",
       "      <td>1110.709961</td>\n",
       "    </tr>\n",
       "    <tr>\n",
       "      <td>2020-03-30</td>\n",
       "      <td>1151.630005</td>\n",
       "      <td>1096.479980</td>\n",
       "      <td>1125.040039</td>\n",
       "      <td>1146.819946</td>\n",
       "      <td>2574100</td>\n",
       "      <td>1146.819946</td>\n",
       "    </tr>\n",
       "    <tr>\n",
       "      <td>2020-03-31</td>\n",
       "      <td>1175.310059</td>\n",
       "      <td>1138.140015</td>\n",
       "      <td>1147.300049</td>\n",
       "      <td>1162.810059</td>\n",
       "      <td>2486400</td>\n",
       "      <td>1162.810059</td>\n",
       "    </tr>\n",
       "  </tbody>\n",
       "</table>\n",
       "</div>"
      ],
      "text/plain": [
       "                   High          Low         Open        Close   Volume  \\\n",
       "Date                                                                      \n",
       "2020-03-25  1148.900024  1086.010010  1126.469971  1102.489990  4081500   \n",
       "2020-03-26  1169.969971  1093.530029  1111.800049  1161.750000  3571700   \n",
       "2020-03-27  1150.670044  1105.910034  1125.670044  1110.709961  3208500   \n",
       "2020-03-30  1151.630005  1096.479980  1125.040039  1146.819946  2574100   \n",
       "2020-03-31  1175.310059  1138.140015  1147.300049  1162.810059  2486400   \n",
       "\n",
       "              Adj Close  \n",
       "Date                     \n",
       "2020-03-25  1102.489990  \n",
       "2020-03-26  1161.750000  \n",
       "2020-03-27  1110.709961  \n",
       "2020-03-30  1146.819946  \n",
       "2020-03-31  1162.810059  "
      ]
     },
     "execution_count": 12,
     "metadata": {},
     "output_type": "execute_result"
    }
   ],
   "source": [
    "start = datetime.datetime(2017, 1, 1)\n",
    "end = datetime.datetime(2020, 3, 31)\n",
    "pd_data = web.DataReader('GOOG', 'yahoo', start, end)\n",
    "pd_data.tail()"
   ]
  },
  {
   "cell_type": "markdown",
   "metadata": {},
   "source": [
    "Third, implement the necessary analytics for the volatilities:\n",
    "Is it correct definition of volatility?"
   ]
  },
  {
   "cell_type": "code",
   "execution_count": 34,
   "metadata": {},
   "outputs": [
    {
     "data": {
      "text/plain": [
       "Date\n",
       "2020-03-25   -0.134564\n",
       "2020-03-26   -0.081272\n",
       "2020-03-27   -0.136958\n",
       "2020-03-30   -0.118711\n",
       "2020-03-31   -0.105375\n",
       "Name: Volatility, dtype: float64"
      ]
     },
     "execution_count": 34,
     "metadata": {},
     "output_type": "execute_result"
    }
   ],
   "source": [
    "pd_data['Log_Ret'] = np.log(pd_data['Close'] / pd_data['Close'].shift(1))\n",
    "pd_data['Volatility'] = pd_data['Log_Ret'].rolling(window=100,axis=0).sum()\n",
    "pd_data['Volatility'].tail()"
   ]
  },
  {
   "cell_type": "markdown",
   "metadata": {},
   "source": [
    "Fourth, plot the results. To generate an inline plot, we use the IPython magic command %matplotlib with the option inline:"
   ]
  },
  {
   "cell_type": "code",
   "execution_count": 35,
   "metadata": {},
   "outputs": [
    {
     "data": {
      "text/plain": [
       "array([<matplotlib.axes._subplots.AxesSubplot object at 0x7fbcd9641d90>,\n",
       "       <matplotlib.axes._subplots.AxesSubplot object at 0x7fbcd96a4f10>],\n",
       "      dtype=object)"
      ]
     },
     "execution_count": 35,
     "metadata": {},
     "output_type": "execute_result"
    },
    {
     "data": {
      "image/png": "[encoded data removed]",
      "text/plain": [
       "<Figure size 576x432 with 2 Axes>"
      ]
     },
     "metadata": {
      "needs_background": "light"
     },
     "output_type": "display_data"
    }
   ],
   "source": [
    " %matplotlib inline\n",
    "pd_data[['Close', 'Volatility']].plot(subplots=True, color='blue',figsize=(8, 6))"
   ]
  },
  {
   "cell_type": "code",
   "execution_count": null,
   "metadata": {},
   "outputs": [],
   "source": []
  }
 ],
 "metadata": {
  "kernelspec": {
   "display_name": "Python 3",
   "language": "python",
   "name": "python3"
  },
  "language_info": {
   "codemirror_mode": {
    "name": "ipython",
    "version": 3
   },
   "file_extension": ".py",
   "mimetype": "text/x-python",
   "name": "python",
   "nbconvert_exporter": "python",
   "pygments_lexer": "ipython3",
   "version": "3.7.4"
  }
 },
 "nbformat": 4,
 "nbformat_minor": 2
}
