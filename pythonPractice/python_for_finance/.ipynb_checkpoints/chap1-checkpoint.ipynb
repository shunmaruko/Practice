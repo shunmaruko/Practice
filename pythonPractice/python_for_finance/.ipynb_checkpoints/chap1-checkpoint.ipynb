{
 "cells": [
  {
   "cell_type": "markdown",
   "metadata": {},
   "source": [
    "# Chapter1\n",
    "### Finance and Python Syntax\n",
    "Try simple financial algorithm, namely the evaluation of  a European call option by Monte Carlo simulation.\n",
    "We will consider a Black-Scholes- Merton (BSM) setup ) in which the option’s underlying risk factor follows a geometric Brownian motion.\n",
    ">A European option is a version of an options contract that limits execution to its expiration date.\n",
    "\n",
    "Parameters for evaluation\n",
    "* Initial Stock index level  $S_0 = 100$\n",
    ">helps investors compare current price levels with past prices to calculate market performance.\n",
    "* Strike price of the European call option $K = 105$\n",
    "* Time-to-maturity $T = 1 $year\n",
    ">the length of time during which interest is paid. When it reaches maturity, its owner is repaid the principal.\n",
    "* Constant, riskless short rate $r = 5$%\n",
    "* Constant volatility $\\sigma = 20$%\n",
    "\n",
    "_Equation 1-1. Black-Scholes-Merton (1973) index level at maturity_\n",
    "\n",
    "$\\begin{equation}\n",
    "\\label{bsm}\n",
    "  S_T = S_0 exp((r - \\frac{1}{2}\\sigma^2)T+\\sigma \\sqrt{T}z)\n",
    "\\end{equation}$\n",
    "\n",
    "The following is an algorithmic description of the Monte Carlo valuation procedure:\n",
    "1. Draw I (pseudo)random numbers z(i), i ∈ {1, 2, ..., I}, from the standard normal distribution.\n",
    "2. Calculate all resulting index levels at maturity ST(i) for given z(i) and Equation 1-1.\n",
    "3. Calculate all inner values of the option at maturity as $hT(i) = max(ST(i) – K,0)$.\n",
    "4. Estimate the option present value via the Monte Carlo estimator given in Equation 1-2.\n",
    "\n",
    "_Equation 1-2. Monte Carlo estimator for European option_\n",
    "\n",
    "$\\begin{equation}\n",
    "  C_0 = exp^{-rT}\\frac{1}{I}\\sum{I}{} h_T(i)\n",
    "\\end{equation}$"
   ]
  },
  {
   "cell_type": "markdown",
   "metadata": {},
   "source": [
    "Import module"
   ]
  },
  {
   "cell_type": "code",
   "execution_count": 15,
   "metadata": {},
   "outputs": [
    {
     "ename": "ModuleNotFoundError",
     "evalue": "No module named 'pandas.io.data'",
     "output_type": "error",
     "traceback": [
      "\u001b[0;31m---------------------------------------------------------------------------\u001b[0m",
      "\u001b[0;31mModuleNotFoundError\u001b[0m                       Traceback (most recent call last)",
      "\u001b[0;32m<ipython-input-15-ff9845ec3a39>\u001b[0m in \u001b[0;36m<module>\u001b[0;34m\u001b[0m\n\u001b[1;32m      1\u001b[0m \u001b[0;32mimport\u001b[0m \u001b[0mnumpy\u001b[0m \u001b[0;32mas\u001b[0m \u001b[0mnp\u001b[0m\u001b[0;34m\u001b[0m\u001b[0;34m\u001b[0m\u001b[0m\n\u001b[1;32m      2\u001b[0m \u001b[0;32mimport\u001b[0m \u001b[0mpandas\u001b[0m \u001b[0;32mas\u001b[0m \u001b[0mpd\u001b[0m\u001b[0;34m\u001b[0m\u001b[0;34m\u001b[0m\u001b[0m\n\u001b[0;32m----> 3\u001b[0;31m \u001b[0;32mimport\u001b[0m \u001b[0mpandas\u001b[0m\u001b[0;34m.\u001b[0m\u001b[0mio\u001b[0m\u001b[0;34m.\u001b[0m\u001b[0mdata\u001b[0m \u001b[0;32mas\u001b[0m \u001b[0mweb\u001b[0m\u001b[0;34m\u001b[0m\u001b[0;34m\u001b[0m\u001b[0m\n\u001b[0m",
      "\u001b[0;31mModuleNotFoundError\u001b[0m: No module named 'pandas.io.data'"
     ]
    }
   ],
   "source": [
    "import numpy as np\n",
    "import pandas as pd\n",
    "import pandas.io.data as web"
   ]
  },
  {
   "cell_type": "markdown",
   "metadata": {},
   "source": [
    "Define constant"
   ]
  },
  {
   "cell_type": "code",
   "execution_count": 8,
   "metadata": {},
   "outputs": [],
   "source": [
    "S0 = 100.  # initial index level\n",
    "K=105. # strike price\n",
    "T=1.0  # time-to-maturity \n",
    "r=0.05  # riskless short rate\n",
    "sigma = 0.2 # volatility"
   ]
  },
  {
   "cell_type": "code",
   "execution_count": 14,
   "metadata": {},
   "outputs": [
    {
     "name": "stdout",
     "output_type": "stream",
     "text": [
      "Value of the European Call Option 7.942\n"
     ]
    }
   ],
   "source": [
    "# Valuation Algorithm\n",
    "I = 100000\n",
    "z = np.random.standard_normal(I)\n",
    "ST=S0*np.exp((r-0.5*sigma**2)*T+sigma*np.sqrt(T)*z)\n",
    "# index values at maturity\n",
    "hT = np.maximum(ST - K, 0) # inner values at maturity\n",
    "C0=np.exp(-r*T)*sum(hT)/I # Monte Carlo estimator\n",
    "# Result Output\n",
    "print(\"Value of the European Call Option %5.3f\" % C0)"
   ]
  },
  {
   "cell_type": "markdown",
   "metadata": {},
   "source": [
    "Retrieve Google stock price data easily"
   ]
  },
  {
   "cell_type": "code",
   "execution_count": 16,
   "metadata": {},
   "outputs": [
    {
     "ename": "NameError",
     "evalue": "name 'web' is not defined",
     "output_type": "error",
     "traceback": [
      "\u001b[0;31m---------------------------------------------------------------------------\u001b[0m",
      "\u001b[0;31mNameError\u001b[0m                                 Traceback (most recent call last)",
      "\u001b[0;32m<ipython-input-16-c4185caffd43>\u001b[0m in \u001b[0;36m<module>\u001b[0;34m\u001b[0m\n\u001b[0;32m----> 1\u001b[0;31m \u001b[0mgoog\u001b[0m\u001b[0;34m=\u001b[0m \u001b[0mweb\u001b[0m\u001b[0;34m.\u001b[0m\u001b[0mDataReader\u001b[0m\u001b[0;34m(\u001b[0m\u001b[0;34m'GOOG'\u001b[0m\u001b[0;34m,\u001b[0m \u001b[0mdata_source\u001b[0m\u001b[0;34m=\u001b[0m\u001b[0;34m'google'\u001b[0m\u001b[0;34m,\u001b[0m \u001b[0mstart\u001b[0m\u001b[0;34m=\u001b[0m\u001b[0;34m'3/14/2009'\u001b[0m\u001b[0;34m,\u001b[0m \u001b[0mend\u001b[0m\u001b[0;34m=\u001b[0m\u001b[0;34m'4/14/2014'\u001b[0m\u001b[0;34m)\u001b[0m\u001b[0;34m\u001b[0m\u001b[0;34m\u001b[0m\u001b[0m\n\u001b[0m",
      "\u001b[0;31mNameError\u001b[0m: name 'web' is not defined"
     ]
    }
   ],
   "source": [
    "goog= web.DataReader('GOOG', data_source='google', start='3/14/2009', end='4/14/2014')"
   ]
  },
  {
   "cell_type": "code",
   "execution_count": null,
   "metadata": {},
   "outputs": [],
   "source": []
  }
 ],
 "metadata": {
  "kernelspec": {
   "display_name": "Python 3",
   "language": "python",
   "name": "python3"
  },
  "language_info": {
   "codemirror_mode": {
    "name": "ipython",
    "version": 3
   },
   "file_extension": ".py",
   "mimetype": "text/x-python",
   "name": "python",
   "nbconvert_exporter": "python",
   "pygments_lexer": "ipython3",
   "version": "3.7.4"
  }
 },
 "nbformat": 4,
 "nbformat_minor": 2
}
